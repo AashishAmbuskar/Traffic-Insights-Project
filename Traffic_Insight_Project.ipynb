{
 "cells": [
  {
   "cell_type": "code",
   "execution_count": null,
   "id": "d6617f64-f6f5-4ce1-a4ba-e2ed90b60328",
   "metadata": {},
   "outputs": [],
   "source": [
    "import pandas as pd"
   ]
  },
  {
   "cell_type": "code",
   "execution_count": null,
   "id": "4f5e66d1-85a5-4f15-a4ca-042e9dd80a96",
   "metadata": {},
   "outputs": [],
   "source": [
    "# Load the dataset\n",
    "data = pd.read_csv(r\"C:/Users/SHRI/OneDrive/Desktop/Capstone Project/traffic/traffic.csv\")"
   ]
  },
  {
   "cell_type": "code",
   "execution_count": null,
   "id": "99c68080-cbd4-4e5c-a6ae-28e9e7e88e51",
   "metadata": {},
   "outputs": [],
   "source": [
    "# Task 1: Total and Daily Pageview Events\n",
    "pageview_data = data[data['event'] == 'pageview']\n",
    "total_pageviews = pageview_data.shape[0]"
   ]
  },
  {
   "cell_type": "code",
   "execution_count": null,
   "id": "57680666-f34c-449e-a3d4-d8d7ed917fc4",
   "metadata": {},
   "outputs": [],
   "source": [
    "# Ensure 'date' column is in datetime format\n",
    "pageview_data['date'] = pd.to_datetime(pageview_data['date'], errors='coerce')\n",
    "\n",
    "# Drop rows with invalid or missing 'date' values\n",
    "pageview_data = pageview_data.dropna(subset=['date'])\n",
    "\n",
    "# Group by 'date' and calculate daily pageviews\n",
    "daily_pageviews = pageview_data.groupby('date').size()\n",
    "\n",
    "# Calculate the average number of pageviews per day\n",
    "average_pageviews_per_day = daily_pageviews.mean()"
   ]
  },
  {
   "cell_type": "code",
   "execution_count": null,
   "id": "81033ef7-2349-4fa8-804a-e13d9ae2a568",
   "metadata": {},
   "outputs": [
    {
     "name": "stdout",
     "output_type": "stream",
     "text": [
      "Task 1: Total and Daily Pageview Events\n",
      "Total Pageviews: 142015\n",
      "Daily Pageviews:\n",
      "date\n",
      "2021-08-19    22366\n",
      "2021-08-20    21382\n",
      "2021-08-21    21349\n",
      "2021-08-22    20430\n",
      "2021-08-23    18646\n",
      "2021-08-24    18693\n",
      "2021-08-25    19149\n",
      "dtype: int64\n",
      "Average Pageviews Per Day: 20287.85714285714\n"
     ]
    }
   ],
   "source": [
    "#Task 1: Total and Daily Pageview Events\n",
    "print(\"Task 1: Total and Daily Pageview Events\")\n",
    "print(f\"Total Pageviews: {total_pageviews}\")\n",
    "print(\"Daily Pageviews:\")\n",
    "print(daily_pageviews)\n",
    "print(f\"Average Pageviews Per Day: {average_pageviews_per_day}\")"
   ]
  },
  {
   "cell_type": "code",
   "execution_count": null,
   "id": "ee8179c7-1c2c-4075-a0a7-b0b4c2a74bb5",
   "metadata": {},
   "outputs": [
    {
     "name": "stdout",
     "output_type": "stream",
     "text": [
      "\n",
      "Task 2: Event Analysis\n",
      "Event Counts:\n",
      "event\n",
      "pageview    142015\n",
      "click        55732\n",
      "preview      28531\n",
      "Name: count, dtype: int64\n",
      "\n",
      "Event Distribution (%):\n",
      "event\n",
      "pageview    62.761294\n",
      "click       24.629880\n",
      "preview     12.608826\n",
      "Name: count, dtype: float64\n"
     ]
    }
   ],
   "source": [
    "# Task 2: Analysis of Other Events\n",
    "event_counts = data['event'].value_counts()\n",
    "event_distribution = event_counts / event_counts.sum() * 100\n",
    "print(\"\\nTask 2: Event Analysis\")\n",
    "print(\"Event Counts:\")\n",
    "print(event_counts)\n",
    "print(\"\\nEvent Distribution (%):\")\n",
    "print(event_distribution)\n"
   ]
  },
  {
   "cell_type": "code",
   "execution_count": null,
   "id": "4f52c7ad-56e9-40af-8bdc-a661d4d7b966",
   "metadata": {},
   "outputs": [
    {
     "name": "stdout",
     "output_type": "stream",
     "text": [
      "\n",
      "Task 3: Geographical Distribution\n",
      "Pageviews by Country:\n",
      "country\n",
      "Saudi Arabia            28873\n",
      "India                   27286\n",
      "United States           20839\n",
      "France                   9674\n",
      "Iraq                     4897\n",
      "United Kingdom           3845\n",
      "Pakistan                 3212\n",
      "Germany                  3141\n",
      "Turkey                   2462\n",
      "United Arab Emirates     2335\n",
      "Name: count, dtype: int64\n"
     ]
    }
   ],
   "source": [
    "# Task 3: Geographical Distribution\n",
    "geo_pageview_data = pageview_data.dropna(subset=['country'])\n",
    "pageviews_by_country = geo_pageview_data['country'].value_counts()\n",
    "print(\"\\nTask 3: Geographical Distribution\")\n",
    "print(\"Pageviews by Country:\")\n",
    "print(pageviews_by_country.head(10))  # Display top 10 countries"
   ]
  },
  {
   "cell_type": "code",
   "execution_count": null,
   "id": "e4c213fe-e44a-45c3-8c07-b6b66755551c",
   "metadata": {},
   "outputs": [
    {
     "name": "stdout",
     "output_type": "stream",
     "text": [
      "\n",
      "Task 4: Click-Through Rate (CTR) Analysis\n",
      "Overall CTR: 39.24%\n",
      "CTR by Link (Top 10):\n",
      "linkid\n",
      "00073307-ae96-5089-a117-4783afb42f8e      0.000000\n",
      "00126b32-0c35-507b-981c-02c80d2aa8e7    100.000000\n",
      "0018cfff-50a1-5984-9715-01ef2d11a49a      0.000000\n",
      "0033934b-5d16-5a06-af58-d087bcdd3680      0.000000\n",
      "0034d6cf-3bd8-5ffe-aafc-b3959fc48608      0.000000\n",
      "0038ff20-1ef7-5846-9f1a-4012fdf24da7      0.000000\n",
      "004b9724-abca-5481-b6e9-6148a7ca00a5    100.000000\n",
      "0062d109-f6f4-5637-8731-8ce38362c113      0.000000\n",
      "00633299-125d-5d5c-a081-3b2cc4d89ffd      0.000000\n",
      "0063a982-41cd-5629-96d0-e1c4dd72ea11     66.666667\n",
      "Name: count, dtype: float64\n"
     ]
    }
   ],
   "source": [
    "# Task 4: Click-Through Rate (CTR) Analysis\n",
    "click_data = data[data['event'] == 'click']\n",
    "clicks_by_link = click_data['linkid'].value_counts()\n",
    "pageviews_by_link = pageview_data['linkid'].value_counts()\n",
    "ctr_by_link = (clicks_by_link / pageviews_by_link).fillna(0) * 100\n",
    "overall_ctr = (click_data.shape[0] / total_pageviews) * 100\n",
    "print(\"\\nTask 4: Click-Through Rate (CTR) Analysis\")\n",
    "print(f\"Overall CTR: {overall_ctr:.2f}%\")\n",
    "print(\"CTR by Link (Top 10):\")\n",
    "print(ctr_by_link.head(10))"
   ]
  },
  {
   "cell_type": "code",
   "execution_count": null,
   "id": "522d9004-8d18-48a1-89e8-ca0210a2b009",
   "metadata": {},
   "outputs": [],
   "source": [
    "# Task 5: Correlation Analysis\n",
    "from scipy.stats import pearsonr, spearmanr"
   ]
  },
  {
   "cell_type": "code",
   "execution_count": null,
   "id": "03ae40ae-f765-4667-9a51-2fc0cdb6cff4",
   "metadata": {},
   "outputs": [],
   "source": [
    "# Prepare data for correlation\n",
    "clicks_and_pageviews = pd.DataFrame({\n",
    "    \"clicks\": click_data['linkid'].value_counts(),\n",
    "    \"pageviews\": pageview_data['linkid'].value_counts()\n",
    "}).fillna(0)\n"
   ]
  },
  {
   "cell_type": "code",
   "execution_count": null,
   "id": "a0097c13-08cc-4329-be77-70cd25014a0a",
   "metadata": {},
   "outputs": [],
   "source": [
    "# Pearson correlation (linear relationship)\n",
    "pearson_corr, pearson_pval = pearsonr(clicks_and_pageviews['clicks'], clicks_and_pageviews['pageviews'])"
   ]
  },
  {
   "cell_type": "code",
   "execution_count": null,
   "id": "ce9721e1-e001-41ba-bd39-0e2aec29b168",
   "metadata": {},
   "outputs": [],
   "source": [
    "# Spearman correlation (rank-based relationship)\n",
    "spearman_corr, spearman_pval = spearmanr(clicks_and_pageviews['clicks'], clicks_and_pageviews['pageviews'])\n"
   ]
  },
  {
   "cell_type": "code",
   "execution_count": null,
   "id": "86d20f06-edb9-4aa7-bed0-1be010a37e9f",
   "metadata": {},
   "outputs": [
    {
     "name": "stdout",
     "output_type": "stream",
     "text": [
      "\n",
      "Task 5: Correlation Analysis\n",
      "Pearson Correlation: 0.99 (p-value: 0.0000)\n",
      "Spearman Correlation: 0.63 (p-value: 0.0000)\n"
     ]
    }
   ],
   "source": [
    "print(\"\\nTask 5: Correlation Analysis\")\n",
    "print(f\"Pearson Correlation: {pearson_corr:.2f} (p-value: {pearson_pval:.4f})\")\n",
    "print(f\"Spearman Correlation: {spearman_corr:.2f} (p-value: {spearman_pval:.4f})\")"
   ]
  },
  {
   "cell_type": "code",
   "execution_count": null,
   "id": "c34a3b67-124c-4839-b2d2-67782cb97161",
   "metadata": {},
   "outputs": [],
   "source": []
  }
 ],
 "metadata": {
  "kernelspec": {
   "display_name": "Python 3 (ipykernel)",
   "language": "python",
   "name": "python3"
  },
  "language_info": {
   "codemirror_mode": {
    "name": "ipython",
    "version": 3
   },
   "file_extension": ".py",
   "mimetype": "text/x-python",
   "name": "python",
   "nbconvert_exporter": "python",
   "pygments_lexer": "ipython3",
   "version": "3.11.7"
  }
 },
 "nbformat": 4,
 "nbformat_minor": 5
}
